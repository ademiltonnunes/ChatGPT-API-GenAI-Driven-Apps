{
  "nbformat": 4,
  "nbformat_minor": 0,
  "metadata": {
    "colab": {
      "provenance": [],
      "authorship_tag": "ABX9TyPkzOAN4WLdZqEzkiOpBlTb",
      "include_colab_link": true
    },
    "kernelspec": {
      "name": "python3",
      "display_name": "Python 3"
    },
    "language_info": {
      "name": "python"
    }
  },
  "cells": [
    {
      "cell_type": "markdown",
      "metadata": {
        "id": "view-in-github",
        "colab_type": "text"
      },
      "source": [
        "<a href=\"https://colab.research.google.com/github/ademiltonnunes/Machine-Learning/blob/main/ChatGPT/Fine-Tuning/2000%20Drug%20Examples/Testing_the_Fine_Tuned_Model.ipynb\" target=\"_parent\"><img src=\"https://colab.research.google.com/assets/colab-badge.svg\" alt=\"Open In Colab\"/></a>"
      ]
    },
    {
      "cell_type": "markdown",
      "source": [
        "#**Testing the Fine Tuned Model**"
      ],
      "metadata": {
        "id": "YLdT_UKONxOS"
      }
    },
    {
      "cell_type": "markdown",
      "source": [
        "##Install\n"
      ],
      "metadata": {
        "id": "YYL2KgFsN3WN"
      }
    },
    {
      "cell_type": "code",
      "source": [
        "! pip install openai==0.28"
      ],
      "metadata": {
        "colab": {
          "base_uri": "https://localhost:8080/"
        },
        "id": "NYO36v_nN7N7",
        "outputId": "cfe4d9d5-eb98-429e-b6bf-dea64e17f9d9"
      },
      "execution_count": 1,
      "outputs": [
        {
          "output_type": "stream",
          "name": "stdout",
          "text": [
            "Requirement already satisfied: openai==0.28 in /usr/local/lib/python3.10/dist-packages (0.28.0)\n",
            "Requirement already satisfied: requests>=2.20 in /usr/local/lib/python3.10/dist-packages (from openai==0.28) (2.31.0)\n",
            "Requirement already satisfied: tqdm in /usr/local/lib/python3.10/dist-packages (from openai==0.28) (4.66.1)\n",
            "Requirement already satisfied: aiohttp in /usr/local/lib/python3.10/dist-packages (from openai==0.28) (3.8.6)\n",
            "Requirement already satisfied: charset-normalizer<4,>=2 in /usr/local/lib/python3.10/dist-packages (from requests>=2.20->openai==0.28) (3.3.2)\n",
            "Requirement already satisfied: idna<4,>=2.5 in /usr/local/lib/python3.10/dist-packages (from requests>=2.20->openai==0.28) (3.4)\n",
            "Requirement already satisfied: urllib3<3,>=1.21.1 in /usr/local/lib/python3.10/dist-packages (from requests>=2.20->openai==0.28) (2.0.7)\n",
            "Requirement already satisfied: certifi>=2017.4.17 in /usr/local/lib/python3.10/dist-packages (from requests>=2.20->openai==0.28) (2023.7.22)\n",
            "Requirement already satisfied: attrs>=17.3.0 in /usr/local/lib/python3.10/dist-packages (from aiohttp->openai==0.28) (23.1.0)\n",
            "Requirement already satisfied: multidict<7.0,>=4.5 in /usr/local/lib/python3.10/dist-packages (from aiohttp->openai==0.28) (6.0.4)\n",
            "Requirement already satisfied: async-timeout<5.0,>=4.0.0a3 in /usr/local/lib/python3.10/dist-packages (from aiohttp->openai==0.28) (4.0.3)\n",
            "Requirement already satisfied: yarl<2.0,>=1.0 in /usr/local/lib/python3.10/dist-packages (from aiohttp->openai==0.28) (1.9.2)\n",
            "Requirement already satisfied: frozenlist>=1.1.1 in /usr/local/lib/python3.10/dist-packages (from aiohttp->openai==0.28) (1.4.0)\n",
            "Requirement already satisfied: aiosignal>=1.1.2 in /usr/local/lib/python3.10/dist-packages (from aiohttp->openai==0.28) (1.3.1)\n"
          ]
        }
      ]
    },
    {
      "cell_type": "markdown",
      "source": [
        "##Import"
      ],
      "metadata": {
        "id": "Ln19MEIPN5Oy"
      }
    },
    {
      "cell_type": "code",
      "source": [
        "import openai\n",
        "def init_api():\n",
        "  openai.api_key = \"openai api key\"\n",
        "init_api()"
      ],
      "metadata": {
        "id": "oxMREbQMN9_B"
      },
      "execution_count": 2,
      "outputs": []
    },
    {
      "cell_type": "markdown",
      "source": [
        "##Testing the Fine Tuned Model"
      ],
      "metadata": {
        "id": "ft3nrvjDOCic"
      }
    },
    {
      "cell_type": "code",
      "source": [
        "# Let's use a drug from each class\n",
        "drugs = [\n",
        "    \"A CN Gel(Topical) 20gmA CN Soap 75gm\",  # Class 0\n",
        "    \"Addnok Tablet 20'S\",  # Class 1\n",
        "    \"ABICET M Tablet 10's\",  # Class 2\n",
        "]"
      ],
      "metadata": {
        "id": "wgve6OY2OhAT"
      },
      "execution_count": 4,
      "outputs": []
    },
    {
      "cell_type": "code",
      "execution_count": 10,
      "metadata": {
        "colab": {
          "base_uri": "https://localhost:8080/"
        },
        "id": "T3CnDavWNf5F",
        "outputId": "54cec428-fb4e-4d18-fc0e-5964cd956efa"
      },
      "outputs": [
        {
          "output_type": "stream",
          "name": "stdout",
          "text": [
            "Drug Name:A CN Gel(Topical) 20gmA CN Soap 75gm, class:  0\n",
            "Drug Name:Addnok Tablet 20'S, class:  1\n",
            "Drug Name:ABICET M Tablet 10's, class:  2\n"
          ]
        }
      ],
      "source": [
        "# Configure the model ID. Change this to your model ID.\n",
        "model = \"ada:ft-personal:drug-malady-data-2023-11-22-08-46-47\"\n",
        "\n",
        "# Returns a drug class for each drug\n",
        "for drug_name in drugs:\n",
        "    prompt = \"Drug: {}\\nMalady:\".format(drug_name)\n",
        "\n",
        "    response = openai.Completion.create(\n",
        "        model=model,\n",
        "        prompt=prompt,\n",
        "        temperature=1,\n",
        "        max_tokens=1,\n",
        "    )\n",
        "\n",
        "    # Print the generated text\n",
        "    drug_class = response.choices[0].text\n",
        "    # The result should be 0, 1, and 2\n",
        "    print(f\"Drug Name:{drug_name}, class: {drug_class}\")"
      ]
    }
  ]
}